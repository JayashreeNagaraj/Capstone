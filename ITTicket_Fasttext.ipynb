{
  "nbformat": 4,
  "nbformat_minor": 0,
  "metadata": {
    "colab": {
      "name": "ITTicket-Fasttext.ipynb",
      "provenance": [],
      "collapsed_sections": [],
      "include_colab_link": true
    },
    "kernelspec": {
      "name": "python3",
      "display_name": "Python 3"
    }
  },
  "cells": [
    {
      "cell_type": "markdown",
      "metadata": {
        "id": "view-in-github",
        "colab_type": "text"
      },
      "source": [
        "<a href=\"https://colab.research.google.com/github/JayashreeNagaraj/Capstone/blob/main/ITTicket_Fasttext.ipynb\" target=\"_parent\"><img src=\"https://colab.research.google.com/assets/colab-badge.svg\" alt=\"Open In Colab\"/></a>"
      ]
    },
    {
      "cell_type": "code",
      "metadata": {
        "id": "RcSQSKgTYitP",
        "colab": {
          "base_uri": "https://localhost:8080/"
        },
        "outputId": "c639ca40-aad6-4d09-c740-65e9583a08a9"
      },
      "source": [
        "from google.colab import drive\n",
        "drive.mount('/content/drive/')"
      ],
      "execution_count": 1,
      "outputs": [
        {
          "output_type": "stream",
          "text": [
            "Mounted at /content/drive/\n"
          ],
          "name": "stdout"
        }
      ]
    },
    {
      "cell_type": "markdown",
      "metadata": {
        "id": "OQKVZnE2ymv5"
      },
      "source": [
        "# New section"
      ]
    },
    {
      "cell_type": "markdown",
      "metadata": {
        "id": "xyEhGqXiqj0w"
      },
      "source": [
        "Plain Model (without lemmatization/stop words removale and with): 0.616 , 0.62\n",
        "\n",
        "Model with epoch 25 : 0.774, 0.807\n",
        "\n",
        "Model with LR 1: 0.829, 0.83\n",
        "\n",
        "Model with epoch and lr : 0.95, 0.94\n",
        "\n",
        "Model with Ngrams : 0.905, 0.904\n",
        "\n",
        "It appears as if model with epoch and lr have higher precision. But the prediction for data with lesser data seems not accurate in prediction. \n",
        "\n",
        "\n"
      ]
    },
    {
      "cell_type": "code",
      "metadata": {
        "id": "OVpTAHrzzCD_"
      },
      "source": [
        "import os\n",
        "os.chdir(\"/content/drive/My Drive/Colab Notebooks/CPSTN_NLP_GRP6A/\")"
      ],
      "execution_count": 4,
      "outputs": []
    },
    {
      "cell_type": "code",
      "metadata": {
        "id": "AFDuq44euamJ",
        "colab": {
          "base_uri": "https://localhost:8080/"
        },
        "outputId": "3afff3b0-2461-44f8-e9f2-ef9ef1a065b4"
      },
      "source": [
        "!pip install fasttext"
      ],
      "execution_count": 5,
      "outputs": [
        {
          "output_type": "stream",
          "text": [
            "Collecting fasttext\n",
            "\u001b[?25l  Downloading https://files.pythonhosted.org/packages/f8/85/e2b368ab6d3528827b147fdb814f8189acc981a4bc2f99ab894650e05c40/fasttext-0.9.2.tar.gz (68kB)\n",
            "\r\u001b[K     |████▊                           | 10kB 16.4MB/s eta 0:00:01\r\u001b[K     |█████████▌                      | 20kB 20.5MB/s eta 0:00:01\r\u001b[K     |██████████████▎                 | 30kB 11.3MB/s eta 0:00:01\r\u001b[K     |███████████████████             | 40kB 9.1MB/s eta 0:00:01\r\u001b[K     |███████████████████████▉        | 51kB 4.2MB/s eta 0:00:01\r\u001b[K     |████████████████████████████▋   | 61kB 4.5MB/s eta 0:00:01\r\u001b[K     |████████████████████████████████| 71kB 3.2MB/s \n",
            "\u001b[?25hRequirement already satisfied: pybind11>=2.2 in /usr/local/lib/python3.6/dist-packages (from fasttext) (2.6.1)\n",
            "Requirement already satisfied: setuptools>=0.7.0 in /usr/local/lib/python3.6/dist-packages (from fasttext) (50.3.2)\n",
            "Requirement already satisfied: numpy in /usr/local/lib/python3.6/dist-packages (from fasttext) (1.18.5)\n",
            "Building wheels for collected packages: fasttext\n",
            "  Building wheel for fasttext (setup.py) ... \u001b[?25l\u001b[?25hdone\n",
            "  Created wheel for fasttext: filename=fasttext-0.9.2-cp36-cp36m-linux_x86_64.whl size=3038010 sha256=5af72ab4b3f580929aabd23bb336fdf1c2db5ffa904b483f33f66b3df9ba0715\n",
            "  Stored in directory: /root/.cache/pip/wheels/98/ba/7f/b154944a1cf5a8cee91c154b75231136cc3a3321ab0e30f592\n",
            "Successfully built fasttext\n",
            "Installing collected packages: fasttext\n",
            "Successfully installed fasttext-0.9.2\n"
          ],
          "name": "stdout"
        }
      ]
    },
    {
      "cell_type": "code",
      "metadata": {
        "id": "aCiB_6gm1a5x"
      },
      "source": [
        "import fasttext\n",
        "import os\n",
        "import numpy as np\n",
        "import pandas as pd\n",
        "import sys\n",
        "from sklearn.model_selection import train_test_split\n",
        "import copy"
      ],
      "execution_count": 6,
      "outputs": []
    },
    {
      "cell_type": "code",
      "metadata": {
        "id": "TYfwzZwHzgfd",
        "colab": {
          "base_uri": "https://localhost:8080/"
        },
        "outputId": "ec65d96f-33e9-4fce-a150-63d766fb78ff"
      },
      "source": [
        "!ls\n",
        "df = pd.read_excel(\"input_data.xlsx\")\n",
        "#df.apply(lambda x: x[\"Assignment group\"] + \" \" + x[\"Description\"])"
      ],
      "execution_count": 7,
      "outputs": [
        {
          "output_type": "stream",
          "text": [
            " Bert\t\t\t\t     ft_train.txt\n",
            " bert_old.py\t\t\t     ft_train_v1.txt\n",
            " Capstone_yash.ipynb\t\t     ft_train_v2.txt\n",
            "'Copy of Webapp.ipynb'\t\t     ft_train_v.txt\n",
            " data_modeled.csv\t\t     ft_val1.txt\n",
            " data_modeled.gsheet\t\t     ft_val2.txt\n",
            " Documents\t\t\t     ft_val.txt\n",
            " fasttext_auto_tune_90accuracy.bin   inp_csv.csv\n",
            " fasttext.bin\t\t\t     input_data.xlsx\n",
            " fasttext_lrpt1_e50.bin\t\t     lstm_model\n",
            " fasttext_main.bin\t\t     ML_Classifiers.ipynb\n",
            " ft_test1.txt\t\t\t     multilingual_L-12_H-768_A-12.zip\n",
            " ft_test2.txt\t\t\t     Notebooks\n",
            " ft_test.txt\t\t\t     project_local.ipynb\n",
            " ft_train_1.txt\t\t\t     xtest_conv.csv\n",
            " ft_train_2.txt\t\t\t     xtest_conv.gsheet\n"
          ],
          "name": "stdout"
        }
      ]
    },
    {
      "cell_type": "code",
      "metadata": {
        "id": "16HWrXsD3Rlh",
        "colab": {
          "base_uri": "https://localhost:8080/",
          "height": 410
        },
        "outputId": "9a42ae6c-6a61-4c00-a57b-80506088e3fe"
      },
      "source": [
        "from sklearn.model_selection import train_test_split\n",
        "\n",
        "project_path = '/content/drive/My Drive/Colab Notebooks/CPSTN_NLP_GRP6A/'\n",
        "file_name = 'data_modeled.csv'\n",
        "conv_df = pd.read_csv (project_path + file_name)\n",
        "print(' The shape of the Data Frame ' + str(conv_df.shape))\n",
        "conv_df.head()\n",
        "#df_trn, df_val = train_test_split(conv_df, stratify = conv_df['Assignment group'#], test_size = 0.2, random_state = 12)"
      ],
      "execution_count": 9,
      "outputs": [
        {
          "output_type": "stream",
          "text": [
            " The shape of the Data Frame (8500, 13)\n"
          ],
          "name": "stdout"
        },
        {
          "output_type": "execute_result",
          "data": {
            "text/html": [
              "<div>\n",
              "<style scoped>\n",
              "    .dataframe tbody tr th:only-of-type {\n",
              "        vertical-align: middle;\n",
              "    }\n",
              "\n",
              "    .dataframe tbody tr th {\n",
              "        vertical-align: top;\n",
              "    }\n",
              "\n",
              "    .dataframe thead th {\n",
              "        text-align: right;\n",
              "    }\n",
              "</style>\n",
              "<table border=\"1\" class=\"dataframe\">\n",
              "  <thead>\n",
              "    <tr style=\"text-align: right;\">\n",
              "      <th></th>\n",
              "      <th>Unnamed: 0</th>\n",
              "      <th>Unnamed: 0.1</th>\n",
              "      <th>Short description</th>\n",
              "      <th>Description</th>\n",
              "      <th>Caller</th>\n",
              "      <th>Assignment group</th>\n",
              "      <th>slen</th>\n",
              "      <th>dlen</th>\n",
              "      <th>Full Desc</th>\n",
              "      <th>language</th>\n",
              "      <th>Updated Lang</th>\n",
              "      <th>Full Len</th>\n",
              "      <th>Assignment group modified</th>\n",
              "    </tr>\n",
              "  </thead>\n",
              "  <tbody>\n",
              "    <tr>\n",
              "      <th>0</th>\n",
              "      <td>0</td>\n",
              "      <td>0</td>\n",
              "      <td>login issue</td>\n",
              "      <td>-verified user details.(employee# &amp; manager na...</td>\n",
              "      <td>spxjnwir pjlcoqds</td>\n",
              "      <td>GRP_0</td>\n",
              "      <td>11</td>\n",
              "      <td>206</td>\n",
              "      <td>login issue verified user detail employee mana...</td>\n",
              "      <td>en</td>\n",
              "      <td>en</td>\n",
              "      <td>198</td>\n",
              "      <td>GRP_0</td>\n",
              "    </tr>\n",
              "    <tr>\n",
              "      <th>1</th>\n",
              "      <td>1</td>\n",
              "      <td>1</td>\n",
              "      <td>outlook</td>\n",
              "      <td>\\r\\n\\r\\nreceived from: hmjdrvpb.komuaywn@gmail...</td>\n",
              "      <td>hmjdrvpb komuaywn</td>\n",
              "      <td>GRP_0</td>\n",
              "      <td>7</td>\n",
              "      <td>194</td>\n",
              "      <td>outlook received from hello team my meeting sk...</td>\n",
              "      <td>en</td>\n",
              "      <td>en</td>\n",
              "      <td>154</td>\n",
              "      <td>GRP_0</td>\n",
              "    </tr>\n",
              "    <tr>\n",
              "      <th>2</th>\n",
              "      <td>2</td>\n",
              "      <td>2</td>\n",
              "      <td>cant log in to vpn</td>\n",
              "      <td>\\r\\n\\r\\nreceived from: eylqgodm.ybqkwiam@gmail...</td>\n",
              "      <td>eylqgodm ybqkwiam</td>\n",
              "      <td>GRP_0</td>\n",
              "      <td>18</td>\n",
              "      <td>87</td>\n",
              "      <td>cant log in to vpn received from hi cannot log...</td>\n",
              "      <td>en</td>\n",
              "      <td>en</td>\n",
              "      <td>61</td>\n",
              "      <td>GRP_0</td>\n",
              "    </tr>\n",
              "    <tr>\n",
              "      <th>3</th>\n",
              "      <td>3</td>\n",
              "      <td>3</td>\n",
              "      <td>unable to access hr_tool page</td>\n",
              "      <td>unable to access hr_tool page</td>\n",
              "      <td>xbkucsvz gcpydteq</td>\n",
              "      <td>GRP_0</td>\n",
              "      <td>29</td>\n",
              "      <td>29</td>\n",
              "      <td>unable to access hr_tool page</td>\n",
              "      <td>en</td>\n",
              "      <td>en</td>\n",
              "      <td>29</td>\n",
              "      <td>GRP_0</td>\n",
              "    </tr>\n",
              "    <tr>\n",
              "      <th>4</th>\n",
              "      <td>4</td>\n",
              "      <td>4</td>\n",
              "      <td>skype error</td>\n",
              "      <td>skype error</td>\n",
              "      <td>owlgqjme qhcozdfx</td>\n",
              "      <td>GRP_0</td>\n",
              "      <td>12</td>\n",
              "      <td>12</td>\n",
              "      <td>skype error</td>\n",
              "      <td>no</td>\n",
              "      <td>no</td>\n",
              "      <td>11</td>\n",
              "      <td>GRP_0</td>\n",
              "    </tr>\n",
              "  </tbody>\n",
              "</table>\n",
              "</div>"
            ],
            "text/plain": [
              "   Unnamed: 0  Unnamed: 0.1  ... Full Len Assignment group modified\n",
              "0           0             0  ...      198                     GRP_0\n",
              "1           1             1  ...      154                     GRP_0\n",
              "2           2             2  ...       61                     GRP_0\n",
              "3           3             3  ...       29                     GRP_0\n",
              "4           4             4  ...       11                     GRP_0\n",
              "\n",
              "[5 rows x 13 columns]"
            ]
          },
          "metadata": {
            "tags": []
          },
          "execution_count": 9
        }
      ]
    },
    {
      "cell_type": "code",
      "metadata": {
        "id": "-NkiE8nKFfLX",
        "colab": {
          "base_uri": "https://localhost:8080/",
          "height": 202
        },
        "outputId": "ebe12939-da90-46de-b904-85f7c5ae3402"
      },
      "source": [
        "# conv_df['labels'] = '__label__' + conv_df['Assignment group modified']\n",
        "# list_of_tuples = list(zip(conv_df['labels'], conv_df['Full Desc']))  \n",
        "# df = pd.DataFrame(list_of_tuples, columns = ['Assignment group', 'Description'])  \n",
        "conv_df['labels'] = '__label__' + conv_df['Assignment group']\n",
        "list_of_tuples = list(zip(conv_df['labels'], conv_df['Description']))  \n",
        "df_ft = pd.DataFrame(list_of_tuples, columns = ['Assignment group', 'Description'])  \n",
        "df_ft.head()"
      ],
      "execution_count": 10,
      "outputs": [
        {
          "output_type": "execute_result",
          "data": {
            "text/html": [
              "<div>\n",
              "<style scoped>\n",
              "    .dataframe tbody tr th:only-of-type {\n",
              "        vertical-align: middle;\n",
              "    }\n",
              "\n",
              "    .dataframe tbody tr th {\n",
              "        vertical-align: top;\n",
              "    }\n",
              "\n",
              "    .dataframe thead th {\n",
              "        text-align: right;\n",
              "    }\n",
              "</style>\n",
              "<table border=\"1\" class=\"dataframe\">\n",
              "  <thead>\n",
              "    <tr style=\"text-align: right;\">\n",
              "      <th></th>\n",
              "      <th>Assignment group</th>\n",
              "      <th>Description</th>\n",
              "    </tr>\n",
              "  </thead>\n",
              "  <tbody>\n",
              "    <tr>\n",
              "      <th>0</th>\n",
              "      <td>__label__GRP_0</td>\n",
              "      <td>-verified user details.(employee# &amp; manager na...</td>\n",
              "    </tr>\n",
              "    <tr>\n",
              "      <th>1</th>\n",
              "      <td>__label__GRP_0</td>\n",
              "      <td>\\r\\n\\r\\nreceived from: hmjdrvpb.komuaywn@gmail...</td>\n",
              "    </tr>\n",
              "    <tr>\n",
              "      <th>2</th>\n",
              "      <td>__label__GRP_0</td>\n",
              "      <td>\\r\\n\\r\\nreceived from: eylqgodm.ybqkwiam@gmail...</td>\n",
              "    </tr>\n",
              "    <tr>\n",
              "      <th>3</th>\n",
              "      <td>__label__GRP_0</td>\n",
              "      <td>unable to access hr_tool page</td>\n",
              "    </tr>\n",
              "    <tr>\n",
              "      <th>4</th>\n",
              "      <td>__label__GRP_0</td>\n",
              "      <td>skype error</td>\n",
              "    </tr>\n",
              "  </tbody>\n",
              "</table>\n",
              "</div>"
            ],
            "text/plain": [
              "  Assignment group                                        Description\n",
              "0   __label__GRP_0  -verified user details.(employee# & manager na...\n",
              "1   __label__GRP_0  \\r\\n\\r\\nreceived from: hmjdrvpb.komuaywn@gmail...\n",
              "2   __label__GRP_0  \\r\\n\\r\\nreceived from: eylqgodm.ybqkwiam@gmail...\n",
              "3   __label__GRP_0                      unable to access hr_tool page\n",
              "4   __label__GRP_0                                       skype error "
            ]
          },
          "metadata": {
            "tags": []
          },
          "execution_count": 10
        }
      ]
    },
    {
      "cell_type": "code",
      "metadata": {
        "id": "HmHv15o_0SYN",
        "colab": {
          "base_uri": "https://localhost:8080/"
        },
        "outputId": "1deed2f1-5a8a-4aec-d96a-779bdeab41a2"
      },
      "source": [
        "#df_ft.dropna(inplace=True)\n",
        "df_ft.isna().sum()"
      ],
      "execution_count": 11,
      "outputs": [
        {
          "output_type": "execute_result",
          "data": {
            "text/plain": [
              "Assignment group    0\n",
              "Description         0\n",
              "dtype: int64"
            ]
          },
          "metadata": {
            "tags": []
          },
          "execution_count": 11
        }
      ]
    },
    {
      "cell_type": "code",
      "metadata": {
        "id": "cFBlA6J51Yx_"
      },
      "source": [
        "top_5 = list(df_ft.groupby(\"Assignment group\").size().reset_index().sort_values(by=0,ascending=False)[:5][\"Assignment group\"].values)\n",
        "df_ft_5 = df_ft[df_ft[\"Assignment group\"].isin(top_5)].copy(deep=True)"
      ],
      "execution_count": 13,
      "outputs": []
    },
    {
      "cell_type": "code",
      "metadata": {
        "id": "jnqAiAG6Enaj"
      },
      "source": [
        "#X_train, X_test, Y_train, Y_test = train_test_split(df, df['Assignment group'], test_size = 0.3)\n",
        "X_train, X_test, Y_train, Y_test = train_test_split(df_ft_5, df_ft_5['Assignment group'], test_size = 0.2)\n",
        "X_train_v, X_val, Y_train_v, Y_val = train_test_split(X_train, X_train['Assignment group'], test_size = 0.20)"
      ],
      "execution_count": 14,
      "outputs": []
    },
    {
      "cell_type": "code",
      "metadata": {
        "id": "9o83y-C11CLb",
        "colab": {
          "base_uri": "https://localhost:8080/"
        },
        "outputId": "dd809f34-7b79-4a0c-e60a-36e43eae2ba0"
      },
      "source": [
        "print(X_train.shape,X_train_v.shape, X_val.shape,X_test.shape)"
      ],
      "execution_count": 15,
      "outputs": [
        {
          "output_type": "stream",
          "text": [
            "(4348, 2) (3478, 2) (870, 2) (1087, 2)\n"
          ],
          "name": "stdout"
        }
      ]
    },
    {
      "cell_type": "code",
      "metadata": {
        "id": "839DwUxlGkOV",
        "colab": {
          "base_uri": "https://localhost:8080/"
        },
        "outputId": "14b14bdc-cf5f-444b-8cf7-db51baf06aa8"
      },
      "source": [
        "X_train.info()"
      ],
      "execution_count": 16,
      "outputs": [
        {
          "output_type": "stream",
          "text": [
            "<class 'pandas.core.frame.DataFrame'>\n",
            "Int64Index: 4348 entries, 1223 to 652\n",
            "Data columns (total 2 columns):\n",
            " #   Column            Non-Null Count  Dtype \n",
            "---  ------            --------------  ----- \n",
            " 0   Assignment group  4348 non-null   object\n",
            " 1   Description       4348 non-null   object\n",
            "dtypes: object(2)\n",
            "memory usage: 101.9+ KB\n"
          ],
          "name": "stdout"
        }
      ]
    },
    {
      "cell_type": "code",
      "metadata": {
        "id": "4d04mnt8R6Cf"
      },
      "source": [
        "# ENTIRE TRAIN DATA\n",
        "np.savetxt('ft_train_2.txt', X_train.values, fmt='%s')\n",
        "\n",
        "#TRAIN DATA FOR VALIDATION\n",
        "np.savetxt('ft_train_v2.txt', X_train_v.values, fmt='%s')\n",
        "#VALIDATION SET\n",
        "np.savetxt('ft_val2.txt', X_val.values, fmt='%s')\n",
        "\n",
        "# Test set\n",
        "np.savetxt('ft_test2.txt', X_test.values, fmt='%s')"
      ],
      "execution_count": 17,
      "outputs": []
    },
    {
      "cell_type": "code",
      "metadata": {
        "id": "UL0UZH1N4NFO"
      },
      "source": [
        "#Remove\n",
        "# import fasttext\n",
        "# import os\n",
        "# os.chdir(\"/content/drive/My Drive/CPSTN_NLP_GRP6A/\")"
      ],
      "execution_count": null,
      "outputs": []
    },
    {
      "cell_type": "code",
      "metadata": {
        "id": "w8Hx4DEx4o3l"
      },
      "source": [
        "model = fasttext.train_supervised(input='ft_train_v2.txt', autotuneValidationFile='ft_val2.txt')"
      ],
      "execution_count": 18,
      "outputs": []
    },
    {
      "cell_type": "code",
      "metadata": {
        "id": "rchMXZ7u5Css"
      },
      "source": [
        "project_path = '/content/drive/My Drive/Colab Notebooks/CPSTN_NLP_GRP6A/'\n",
        "model.save_model(project_path+ 'fasttext_auto_tune_accuracy.bin')"
      ],
      "execution_count": 20,
      "outputs": []
    },
    {
      "cell_type": "code",
      "metadata": {
        "id": "wZiau-Aj3-Ad"
      },
      "source": [
        "#Tunes model only for group 0\n",
        "model_at = fasttext.train_supervised(input='ft_train_1.txt', autotuneValidationFile='ft_train_v1.txt', autotuneMetric=\"f1:__label__GRP_0\") "
      ],
      "execution_count": null,
      "outputs": []
    },
    {
      "cell_type": "code",
      "metadata": {
        "id": "Iuhl5QKaSL2M"
      },
      "source": [
        "model_lrpt1_e50 = fasttext.train_supervised(input=\"ft_train_2.txt\", lr=0.05, epoch=500) #91.2%"
      ],
      "execution_count": 21,
      "outputs": []
    },
    {
      "cell_type": "code",
      "metadata": {
        "id": "zzidbTdjZYVT"
      },
      "source": [
        "model_lrpt1_e50.save_model(project_path+ 'fasttext_lrpt05_epoch500.bin')"
      ],
      "execution_count": 24,
      "outputs": []
    },
    {
      "cell_type": "code",
      "metadata": {
        "id": "F_iUwfOWTWoe",
        "colab": {
          "base_uri": "https://localhost:8080/"
        },
        "outputId": "c96bf752-0741-4afe-b4c8-44e368847d9e"
      },
      "source": [
        "model_lrpt1_e50.test(\"ft_test2.txt\")"
      ],
      "execution_count": 22,
      "outputs": [
        {
          "output_type": "execute_result",
          "data": {
            "text/plain": [
              "(1087, 0.9126034958601656, 0.9126034958601656)"
            ]
          },
          "metadata": {
            "tags": []
          },
          "execution_count": 22
        }
      ]
    },
    {
      "cell_type": "code",
      "metadata": {
        "id": "95NWENvRUUxG",
        "colab": {
          "base_uri": "https://localhost:8080/"
        },
        "outputId": "a7bc65e1-a046-43f3-a476-a763cade3a9b"
      },
      "source": [
        "model.predict('Schedule maintanence of remote dial',k=2)"
      ],
      "execution_count": 32,
      "outputs": [
        {
          "output_type": "execute_result",
          "data": {
            "text/plain": [
              "(('__label__GRP_8', '__label__GRP_9'), array([0.26118717, 0.22911464]))"
            ]
          },
          "metadata": {
            "tags": []
          },
          "execution_count": 32
        }
      ]
    },
    {
      "cell_type": "code",
      "metadata": {
        "id": "SVPLdczHUqD_",
        "colab": {
          "base_uri": "https://localhost:8080/"
        },
        "outputId": "977d7a9f-59d9-415b-aa8d-2e3f5b81b090"
      },
      "source": [
        "model_lrpt1_e50.predict('job job_504 failed in job_scheduler')"
      ],
      "execution_count": 26,
      "outputs": [
        {
          "output_type": "execute_result",
          "data": {
            "text/plain": [
              "(('__label__GRP_8',), array([0.94708002]))"
            ]
          },
          "metadata": {
            "tags": []
          },
          "execution_count": 26
        }
      ]
    },
    {
      "cell_type": "code",
      "metadata": {
        "id": "2cf8MakgU0xE",
        "colab": {
          "base_uri": "https://localhost:8080/"
        },
        "outputId": "17b2b12a-b8fd-48d9-8b01-d4cf11d71f97"
      },
      "source": [
        "model_lrpt1_e50.predict('circuit outage')"
      ],
      "execution_count": 27,
      "outputs": [
        {
          "output_type": "execute_result",
          "data": {
            "text/plain": [
              "(('__label__GRP_0',), array([0.89840502]))"
            ]
          },
          "metadata": {
            "tags": []
          },
          "execution_count": 27
        }
      ]
    },
    {
      "cell_type": "code",
      "metadata": {
        "id": "Ab726Y_cV0KS"
      },
      "source": [
        "model_lrpt1_e50.save_model('fasttext_main.bin')"
      ],
      "execution_count": null,
      "outputs": []
    },
    {
      "cell_type": "code",
      "metadata": {
        "id": "UDXfjgcRWFeS"
      },
      "source": [
        "model_lr1_e10 = fasttext.train_supervised(input=\"ft_train_2.txt\", lr=1,epoch=10)"
      ],
      "execution_count": null,
      "outputs": []
    },
    {
      "cell_type": "code",
      "metadata": {
        "id": "7TWgzopkK_C3",
        "colab": {
          "base_uri": "https://localhost:8080/"
        },
        "outputId": "826fceb1-26d7-4c28-bbf6-a5c30f243848"
      },
      "source": [
        "model_lr1_e10.test(\"ft_test2.txt\")"
      ],
      "execution_count": null,
      "outputs": [
        {
          "output_type": "execute_result",
          "data": {
            "text/plain": [
              "(1087, 0.8886844526218951, 0.8886844526218951)"
            ]
          },
          "metadata": {
            "tags": []
          },
          "execution_count": 53
        }
      ]
    },
    {
      "cell_type": "code",
      "metadata": {
        "id": "BAgTxbUlLC5t"
      },
      "source": [
        "model_lr1_e100 = fasttext.train_supervised(input=\"ft_train_2.txt\", lr=0.1,epoch=20, bucket=200000, dim=50, loss='hs')"
      ],
      "execution_count": null,
      "outputs": []
    },
    {
      "cell_type": "code",
      "metadata": {
        "id": "A3l_6xhWLlrx",
        "colab": {
          "base_uri": "https://localhost:8080/"
        },
        "outputId": "516546c4-dc96-46e9-cc14-17cf3e10c15d"
      },
      "source": [
        "model_lr1_e100.test(\"ft_test2.txt\")"
      ],
      "execution_count": null,
      "outputs": [
        {
          "output_type": "execute_result",
          "data": {
            "text/plain": [
              "(1087, 0.8942042318307267, 0.8942042318307267)"
            ]
          },
          "metadata": {
            "tags": []
          },
          "execution_count": 51
        }
      ]
    },
    {
      "cell_type": "code",
      "metadata": {
        "colab": {
          "base_uri": "https://localhost:8080/"
        },
        "id": "cSzQtW_0bJ_9",
        "outputId": "1c356769-32c9-42bb-c075-2fa3e88f652d"
      },
      "source": [
        "model_lr1_e100.predict('unable access machine utility finish drawer adjustment setting network')"
      ],
      "execution_count": null,
      "outputs": [
        {
          "output_type": "execute_result",
          "data": {
            "text/plain": [
              "(('__label__GRP_0',), array([0.9812935]))"
            ]
          },
          "metadata": {
            "tags": []
          },
          "execution_count": 29
        }
      ]
    },
    {
      "cell_type": "code",
      "metadata": {
        "colab": {
          "base_uri": "https://localhost:8080/"
        },
        "id": "9Bha8O8UbQIv",
        "outputId": "4f80711e-fd90-4dec-a01d-288127af454a"
      },
      "source": [
        "model_lr1_e100.predict('job job_504 failed in job_scheduler')"
      ],
      "execution_count": null,
      "outputs": [
        {
          "output_type": "execute_result",
          "data": {
            "text/plain": [
              "(('__label__GRP_0',), array([0.54923636]))"
            ]
          },
          "metadata": {
            "tags": []
          },
          "execution_count": 31
        }
      ]
    },
    {
      "cell_type": "code",
      "metadata": {
        "id": "pZtY76jxNJIA"
      },
      "source": [
        "model_lr1_e100_ngrams = fasttext.train_supervised(input=\"ft_train_2.txt\", lr=0.1,epoch=20, wordNgrams=2, bucket=200000, dim=50, loss='hs')"
      ],
      "execution_count": null,
      "outputs": []
    },
    {
      "cell_type": "code",
      "metadata": {
        "id": "ozxw29ONNM_-",
        "colab": {
          "base_uri": "https://localhost:8080/"
        },
        "outputId": "9879ea1c-288f-4d72-effe-54f54b1449b7"
      },
      "source": [
        "model_lr1_e100_ngrams.test(\"ft_test2.txt\")"
      ],
      "execution_count": null,
      "outputs": [
        {
          "output_type": "execute_result",
          "data": {
            "text/plain": [
              "(1087, 0.890524379024839, 0.890524379024839)"
            ]
          },
          "metadata": {
            "tags": []
          },
          "execution_count": 49
        }
      ]
    },
    {
      "cell_type": "code",
      "metadata": {
        "id": "EhbAVCkoOm7V",
        "colab": {
          "base_uri": "https://localhost:8080/"
        },
        "outputId": "626c45ec-0a15-4774-a5b6-df4f717d53b3"
      },
      "source": [
        "model_plain = fasttext.train_supervised(input=\"ft_train_2.txt\")\n",
        "model_plain.test(\"ft_test2.txt\")"
      ],
      "execution_count": null,
      "outputs": [
        {
          "output_type": "execute_result",
          "data": {
            "text/plain": [
              "(1087, 0.874885004599816, 0.874885004599816)"
            ]
          },
          "metadata": {
            "tags": []
          },
          "execution_count": 47
        }
      ]
    },
    {
      "cell_type": "code",
      "metadata": {
        "colab": {
          "base_uri": "https://localhost:8080/"
        },
        "id": "Ck3fGNA8YRDN",
        "outputId": "fc11ba50-4539-4e3e-d037-9559e8aad7c5"
      },
      "source": [
        "model.test(\"ft_test2.txt\")"
      ],
      "execution_count": 19,
      "outputs": [
        {
          "output_type": "execute_result",
          "data": {
            "text/plain": [
              "(1087, 0.9116835326586936, 0.9116835326586936)"
            ]
          },
          "metadata": {
            "tags": []
          },
          "execution_count": 19
        }
      ]
    }
  ]
}